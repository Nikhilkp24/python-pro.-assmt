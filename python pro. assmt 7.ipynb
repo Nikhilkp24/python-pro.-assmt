{
 "cells": [
  {
   "cell_type": "code",
   "execution_count": null,
   "id": "08b134ed",
   "metadata": {},
   "outputs": [],
   "source": [
    "#Q1. Write a Python Program to find sum of array?"
   ]
  },
  {
   "cell_type": "code",
   "execution_count": 1,
   "id": "1e61cc9f",
   "metadata": {},
   "outputs": [
    {
     "name": "stdout",
     "output_type": "stream",
     "text": [
      "Sum of the array is 27\n"
     ]
    }
   ],
   "source": [
    "arr=[]\n",
    "arr=[3,7,9,8]\n",
    "\n",
    "ans=sum(arr)\n",
    "\n",
    "print('Sum of the array is',ans)"
   ]
  },
  {
   "cell_type": "code",
   "execution_count": null,
   "id": "cc0e2557",
   "metadata": {},
   "outputs": [],
   "source": [
    "#Q2. Write a Python Program to find largest element in an array?"
   ]
  },
  {
   "cell_type": "code",
   "execution_count": 2,
   "id": "22f52c5a",
   "metadata": {},
   "outputs": [
    {
     "name": "stdout",
     "output_type": "stream",
     "text": [
      "Largest in given array is 9808\n"
     ]
    }
   ],
   "source": [
    "def largest(arr,n):\n",
    "    max=arr[0]\n",
    "    for i in range(1,n):\n",
    "        if arr[i]>max:\n",
    "            max=arr[i]\n",
    "    return max\n",
    "arr=[10,324,45,90,9808]\n",
    "n=len(arr)\n",
    "Ans=largest(arr,n)\n",
    "print('Largest in given array is',Ans)"
   ]
  },
  {
   "cell_type": "code",
   "execution_count": null,
   "id": "75352a22",
   "metadata": {},
   "outputs": [],
   "source": [
    "#Q3. Write a Python Program for array rotation?"
   ]
  },
  {
   "cell_type": "code",
   "execution_count": 3,
   "id": "429a7023",
   "metadata": {},
   "outputs": [
    {
     "name": "stdout",
     "output_type": "stream",
     "text": [
      "Array after left rotation is:  [3, 4, 5, 6, 7, 1, 2]\n"
     ]
    }
   ],
   "source": [
    "def rotateArray(arr,n,d):\n",
    "    temp=[]\n",
    "    i=0\n",
    "    while(i<d):\n",
    "        temp.append(arr[i])\n",
    "        i=i+1\n",
    "    i=0\n",
    "    while(d<n):\n",
    "        arr[i]=arr[d]\n",
    "        i=i+1\n",
    "        d=d+1\n",
    "    arr[:]=arr[: i] + temp\n",
    "    return arr\n",
    "\n",
    "arr=[1,2,3,4,5,6,7]\n",
    "print('Array after left rotation is: ',end=' ')\n",
    "print(rotateArray(arr,len(arr),2))"
   ]
  },
  {
   "cell_type": "code",
   "execution_count": null,
   "id": "f4fc2569",
   "metadata": {},
   "outputs": [],
   "source": [
    "#Q4. Write a Python Program to Split the array and add the first part to the end?"
   ]
  },
  {
   "cell_type": "code",
   "execution_count": 4,
   "id": "6bcbc4ae",
   "metadata": {},
   "outputs": [
    {
     "name": "stdout",
     "output_type": "stream",
     "text": [
      "5 6 52 36 12 10 "
     ]
    }
   ],
   "source": [
    "def splitArr(arr,n,k):\n",
    "    for i in range(0,k):\n",
    "        x=arr[0]\n",
    "        for j in range(0,n-1):\n",
    "            arr[j]=arr[j+1]\n",
    "            \n",
    "        arr[n-1]=x\n",
    "arr=[12,10,5,6,52,36]\n",
    "n=len(arr)\n",
    "position=2\n",
    "splitArr(arr,n,position)\n",
    "for i in range(0,n):\n",
    "    print(arr[i],end=' ')"
   ]
  },
  {
   "cell_type": "code",
   "execution_count": null,
   "id": "a48e645a",
   "metadata": {},
   "outputs": [],
   "source": [
    "#Q5. Write a Python Program to check if given array is Monotonic?"
   ]
  },
  {
   "cell_type": "code",
   "execution_count": 5,
   "id": "50385e5f",
   "metadata": {},
   "outputs": [
    {
     "name": "stdout",
     "output_type": "stream",
     "text": [
      "Enter the values  of list5\n",
      "True\n"
     ]
    }
   ],
   "source": [
    "def isMonotonic(A):\n",
    "    return (all(A[i]<=A[i+1]for i in range(len(A)-1)) or all(A[i]>=A[i+1]for i in range(len(A)-1)))\n",
    "A=input(\"Enter the values  of list\")\n",
    "\n",
    "print(isMonotonic(A))\n"
   ]
  },
  {
   "cell_type": "code",
   "execution_count": null,
   "id": "73126a1b",
   "metadata": {},
   "outputs": [],
   "source": []
  }
 ],
 "metadata": {
  "kernelspec": {
   "display_name": "Python 3 (ipykernel)",
   "language": "python",
   "name": "python3"
  },
  "language_info": {
   "codemirror_mode": {
    "name": "ipython",
    "version": 3
   },
   "file_extension": ".py",
   "mimetype": "text/x-python",
   "name": "python",
   "nbconvert_exporter": "python",
   "pygments_lexer": "ipython3",
   "version": "3.9.13"
  }
 },
 "nbformat": 4,
 "nbformat_minor": 5
}
