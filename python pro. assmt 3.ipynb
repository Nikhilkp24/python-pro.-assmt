{
 "cells": [
  {
   "cell_type": "code",
   "execution_count": null,
   "id": "e517a18d",
   "metadata": {},
   "outputs": [],
   "source": [
    "#Q1. Write a Python Program to Check if a Number is Positive, Negative or Zero?"
   ]
  },
  {
   "cell_type": "code",
   "execution_count": 1,
   "id": "ca4b7ae2",
   "metadata": {},
   "outputs": [
    {
     "name": "stdout",
     "output_type": "stream",
     "text": [
      "Enter the number: 0\n",
      "zero\n"
     ]
    }
   ],
   "source": [
    "num=float(input(\"Enter the number: \"))\n",
    "\n",
    "if num>0:\n",
    "    print(\"positive number\")\n",
    "elif num<0:\n",
    "    print(\"negative\")\n",
    "    \n",
    "elif num==0:\n",
    "    print(\"zero\")"
   ]
  },
  {
   "cell_type": "code",
   "execution_count": null,
   "id": "352e7ced",
   "metadata": {},
   "outputs": [],
   "source": [
    "#Q2. Write a Python Program to Check if a Number is Odd or Even?"
   ]
  },
  {
   "cell_type": "code",
   "execution_count": 2,
   "id": "703bb498",
   "metadata": {},
   "outputs": [
    {
     "name": "stdout",
     "output_type": "stream",
     "text": [
      "Enter the number: 6\n",
      "even number\n"
     ]
    }
   ],
   "source": [
    "num=int(input(\"Enter the number: \"))\n",
    "if (num%2)==0:\n",
    "    print(\"even number\")\n",
    "elif (num%2)==1:\n",
    "    print(\"odd number\")\n"
   ]
  },
  {
   "cell_type": "code",
   "execution_count": null,
   "id": "b70dd3b1",
   "metadata": {},
   "outputs": [],
   "source": [
    "#Q3. Write a Python Program to Check Leap Year?"
   ]
  },
  {
   "cell_type": "code",
   "execution_count": null,
   "id": "fff81c76",
   "metadata": {},
   "outputs": [],
   "source": [
    "year=int(input(\"Enter the year: \"))\n",
    "if (year%4==0 and year%100 !=0) or (year%400==0):\n",
    "    print(\"Given year is leap year\")\n",
    "else:\n",
    "    print(\"given year is not leap year\")"
   ]
  },
  {
   "cell_type": "code",
   "execution_count": null,
   "id": "bb47776b",
   "metadata": {},
   "outputs": [],
   "source": [
    "#4. Write a Python Program to Check Prime Number?"
   ]
  },
  {
   "cell_type": "code",
   "execution_count": null,
   "id": "8617c5db",
   "metadata": {},
   "outputs": [],
   "source": [
    "num=int(input(\"enter the number:\"))\n",
    "lim=int(num/2)+1\n",
    "for i in range(2,lim):\n",
    "    rem=num%i\n",
    "    if rem==0:\n",
    "        print(num,\"is not prime\")\n",
    "        break\n",
    "else:\n",
    "    print(num,\"is prime\")\n"
   ]
  },
  {
   "cell_type": "code",
   "execution_count": null,
   "id": "5d6f6ec5",
   "metadata": {},
   "outputs": [],
   "source": [
    "#Q5. Write a Python Program to Print all Prime Numbers in an Interval of 1-10000?"
   ]
  },
  {
   "cell_type": "code",
   "execution_count": null,
   "id": "5f41e502",
   "metadata": {},
   "outputs": [],
   "source": [
    "for num in range(1,10000):\n",
    "    for i in range(2,num):\n",
    "        if num%i==0:\n",
    "            j=num/i\n",
    "            print(\"Found a factor(\",i,\")for \",num)\n",
    "            break\n",
    "    else:\n",
    "        print(num,\"is  prime\")\n"
   ]
  }
 ],
 "metadata": {
  "kernelspec": {
   "display_name": "Python 3 (ipykernel)",
   "language": "python",
   "name": "python3"
  },
  "language_info": {
   "codemirror_mode": {
    "name": "ipython",
    "version": 3
   },
   "file_extension": ".py",
   "mimetype": "text/x-python",
   "name": "python",
   "nbconvert_exporter": "python",
   "pygments_lexer": "ipython3",
   "version": "3.9.13"
  }
 },
 "nbformat": 4,
 "nbformat_minor": 5
}
