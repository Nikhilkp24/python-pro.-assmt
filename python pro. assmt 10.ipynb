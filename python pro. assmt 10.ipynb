{
 "cells": [
  {
   "cell_type": "code",
   "execution_count": 1,
   "id": "bada3b59",
   "metadata": {},
   "outputs": [
    {
     "name": "stdout",
     "output_type": "stream",
     "text": [
      "Enter the number of entries in a list: 2\n",
      "Enter the element: 3\n",
      "Enter the element: 4\n",
      "Sum of elements: 7\n"
     ]
    }
   ],
   "source": [
    "#Q1. Write a python program to find sum of elements in a list?\n",
    "\n",
    "\n",
    "def sumofList():\n",
    "    in_ele = int(input(\"Enter the number of entries in a list: \"))\n",
    "    in_list = []\n",
    "    for i in range(in_ele):\n",
    "        in_list.append(int(input(\"Enter the element: \")))\n",
    "    print(f\"Sum of elements: {sum(in_list)}\")\n",
    "sumofList()"
   ]
  },
  {
   "cell_type": "code",
   "execution_count": null,
   "id": "067d4908",
   "metadata": {},
   "outputs": [],
   "source": []
  },
  {
   "cell_type": "code",
   "execution_count": null,
   "id": "cb6e4856",
   "metadata": {},
   "outputs": [],
   "source": [
    "#Q2. Write a python program to multiply all elements in a list?"
   ]
  },
  {
   "cell_type": "code",
   "execution_count": 2,
   "id": "cdd93859",
   "metadata": {},
   "outputs": [
    {
     "name": "stdout",
     "output_type": "stream",
     "text": [
      "Enter the number of elements in a list: 3\n",
      "Enter an element: 5\n",
      "Enter an element: 6\n",
      "Enter an element: 7\n",
      "210\n"
     ]
    }
   ],
   "source": [
    "def mulofList():\n",
    "    in_ele=int(input(\"Enter the number of elements in a list: \"))\n",
    "    in_list=[]\n",
    "    mul=1\n",
    "    for i in range(in_ele):\n",
    "        in_list.append(int(input(\"Enter an element: \")))\n",
    "    for ele in in_list:\n",
    "        mul=mul*ele\n",
    "    print(mul)\n",
    "mulofList()"
   ]
  },
  {
   "cell_type": "code",
   "execution_count": null,
   "id": "c7fb304a",
   "metadata": {},
   "outputs": [],
   "source": []
  },
  {
   "cell_type": "code",
   "execution_count": null,
   "id": "79d7fc4f",
   "metadata": {},
   "outputs": [],
   "source": [
    "#Q3. Write a python program to find smallest number in a list?"
   ]
  },
  {
   "cell_type": "code",
   "execution_count": 3,
   "id": "1810c8cf",
   "metadata": {},
   "outputs": [
    {
     "name": "stdout",
     "output_type": "stream",
     "text": [
      "Enter the number of elements: 2\n",
      "Enter an element: 4\n",
      "Enter an element: 6\n",
      "The Smallest number in: [4, 6] is 4\n"
     ]
    }
   ],
   "source": [
    "def smallinList():\n",
    "    in_ele=int(input(\"Enter the number of elements: \"))\n",
    "    in_list=[]\n",
    "    for i in range(in_ele):\n",
    "        in_list.append(int(input(\"Enter an element: \")))\n",
    "    print(f'The Smallest number in: {in_list} is {sorted(in_list)[0]}')\n",
    "smallinList()"
   ]
  },
  {
   "cell_type": "code",
   "execution_count": null,
   "id": "4168ee1c",
   "metadata": {},
   "outputs": [],
   "source": []
  },
  {
   "cell_type": "code",
   "execution_count": null,
   "id": "22011a57",
   "metadata": {},
   "outputs": [],
   "source": [
    "#Q4. Write a python program to find largest number in a list?"
   ]
  },
  {
   "cell_type": "code",
   "execution_count": 4,
   "id": "666b532e",
   "metadata": {},
   "outputs": [
    {
     "name": "stdout",
     "output_type": "stream",
     "text": [
      "Enter the number of entries: 3\n",
      "Enter an element: 5\n",
      "Enter an element: 3\n",
      "Enter an element: 3\n",
      "The largest number in: [5, 3, 3] is 5\n"
     ]
    }
   ],
   "source": [
    "def largeinList():\n",
    "    in_ele = int(input(\"Enter the number of entries: \"))\n",
    "    in_list=[]\n",
    "    for i in range(in_ele):\n",
    "        in_list.append(int(input(\"Enter an element: \")))\n",
    "    print(f\"The largest number in: {in_list} is {sorted(in_list)[-1]}\")\n",
    "largeinList()\n"
   ]
  },
  {
   "cell_type": "code",
   "execution_count": null,
   "id": "94a45f9f",
   "metadata": {},
   "outputs": [],
   "source": []
  },
  {
   "cell_type": "code",
   "execution_count": null,
   "id": "4665bc6f",
   "metadata": {},
   "outputs": [],
   "source": [
    "#Q5. Write a python program to second largest number in a list?\n"
   ]
  },
  {
   "cell_type": "code",
   "execution_count": 5,
   "id": "4ff36a1b",
   "metadata": {},
   "outputs": [
    {
     "name": "stdout",
     "output_type": "stream",
     "text": [
      "Enter the number of entrries: 2\n",
      "Enter an element: 4\n",
      "Enter an element: 5\n",
      "The seond largest element in : [4, 5] is 4\n"
     ]
    }
   ],
   "source": [
    "def sec_large_inList():\n",
    "    in_ele = int(input(\"Enter the number of entrries: \"))\n",
    "    in_list = []\n",
    "    for i in range(in_ele):\n",
    "        in_list.append(int(input(\"Enter an element: \")))\n",
    "    print(f\"The seond largest element in : {in_list} is {sorted(in_list)[-2]}\")\n",
    "sec_large_inList()"
   ]
  },
  {
   "cell_type": "code",
   "execution_count": null,
   "id": "a09f9ad6",
   "metadata": {},
   "outputs": [],
   "source": []
  },
  {
   "cell_type": "code",
   "execution_count": 6,
   "id": "24035354",
   "metadata": {},
   "outputs": [],
   "source": [
    "#Q6. Write a python program to find N largest number in a list?"
   ]
  },
  {
   "cell_type": "code",
   "execution_count": 8,
   "id": "5a42d03e",
   "metadata": {},
   "outputs": [
    {
     "name": "stdout",
     "output_type": "stream",
     "text": [
      "Enter the number of elements: 2\n",
      "Enter an element: 3\n",
      "Enter an element: 5\n",
      "The 4 largest element in [3, 5] is [5, 3]\n"
     ]
    }
   ],
   "source": [
    "def Nlarge_inList(k):\n",
    "    in_ele = int(input(\"Enter the number of elements: \"))\n",
    "    in_list = []\n",
    "    for i in range(in_ele):\n",
    "        in_list.append(int(input(\"Enter an element: \")))\n",
    "    print(f\"The {k} largest element in {in_list} is {sorted(in_list,reverse=True)[0:k]}\")\n",
    "\n",
    "Nlarge_inList(4)"
   ]
  },
  {
   "cell_type": "code",
   "execution_count": null,
   "id": "da1190f6",
   "metadata": {},
   "outputs": [],
   "source": []
  },
  {
   "cell_type": "code",
   "execution_count": 9,
   "id": "daf422f2",
   "metadata": {},
   "outputs": [],
   "source": [
    "#Q7. Write a python program to find even number in a list?"
   ]
  },
  {
   "cell_type": "code",
   "execution_count": 10,
   "id": "98dd5d4e",
   "metadata": {},
   "outputs": [
    {
     "name": "stdout",
     "output_type": "stream",
     "text": [
      "Enter the number of elements: 2\n",
      "Enter an element: 3\n",
      "Enter an element: 4\n",
      "The Even elements in [3, 4] are [4]\n"
     ]
    }
   ],
   "source": [
    "def evenInList():\n",
    "    in_ele = int(input(\"Enter the number of elements: \"))\n",
    "    in_list = []\n",
    "    even_list = []\n",
    "    for i in range(in_ele):\n",
    "        in_list.append(int(input(\"Enter an element: \")))\n",
    "    for i in in_list:\n",
    "        if i%2==0:\n",
    "            even_list.append(i)\n",
    "    print(f\"The Even elements in {in_list} are {even_list}\")\n",
    "evenInList()"
   ]
  },
  {
   "cell_type": "code",
   "execution_count": null,
   "id": "8ceed5cd",
   "metadata": {},
   "outputs": [],
   "source": []
  },
  {
   "cell_type": "code",
   "execution_count": 11,
   "id": "d624ea3c",
   "metadata": {},
   "outputs": [],
   "source": [
    "#Q8. Write a python program to find odd number in a list?"
   ]
  },
  {
   "cell_type": "code",
   "execution_count": 12,
   "id": "d60375ca",
   "metadata": {},
   "outputs": [
    {
     "name": "stdout",
     "output_type": "stream",
     "text": [
      "Enter the number of entries: 2\n",
      "Enter an element: 4\n",
      "Enter an element: 3\n",
      "The odd elements in [4, 3] are [3]\n"
     ]
    }
   ],
   "source": [
    "def oddInList():\n",
    "    in_ele = int(input(\"Enter the number of entries: \"))\n",
    "    in_list = []\n",
    "    odd_list = []\n",
    "    for i in range(in_ele):\n",
    "        in_list.append(int(input(\"Enter an element: \")))\n",
    "    for i in in_list:\n",
    "        if i%2 != 0:\n",
    "            odd_list.append(i)\n",
    "    print(f\"The odd elements in {in_list} are {odd_list}\")\n",
    "oddInList()\n"
   ]
  },
  {
   "cell_type": "code",
   "execution_count": null,
   "id": "9973d5f7",
   "metadata": {},
   "outputs": [],
   "source": []
  },
  {
   "cell_type": "code",
   "execution_count": 13,
   "id": "65dabfb7",
   "metadata": {},
   "outputs": [],
   "source": [
    "#Q9. Write a python program to remove empty list from list?"
   ]
  },
  {
   "cell_type": "code",
   "execution_count": 16,
   "id": "66f6eabf",
   "metadata": {},
   "outputs": [
    {
     "name": "stdout",
     "output_type": "stream",
     "text": [
      "Enter the elements of list: 4,5\n",
      "There is no [] list in (4, 5)\n"
     ]
    }
   ],
   "source": [
    "def checkEmptyList():\n",
    "    in_list = eval(input(\"Enter the elements of list: \"))\n",
    "    if [] in in_list:\n",
    "        print(f\"There is an empty list in {in_list} at position {in_list.index([])}\")\n",
    "        in_list.remove([])\n",
    "        print(f\"The list after removing [] is {in_list}\")\n",
    "    else:\n",
    "        print(f\"There is no [] list in {in_list}\")\n",
    "checkEmptyList()"
   ]
  },
  {
   "cell_type": "code",
   "execution_count": null,
   "id": "d7383822",
   "metadata": {},
   "outputs": [],
   "source": []
  },
  {
   "cell_type": "code",
   "execution_count": null,
   "id": "c8acd0c9",
   "metadata": {},
   "outputs": [],
   "source": [
    "#Q10. Write a python program to Cloning or copying a list?"
   ]
  },
  {
   "cell_type": "code",
   "execution_count": 20,
   "id": "77c7509c",
   "metadata": {},
   "outputs": [
    {
     "name": "stdout",
     "output_type": "stream",
     "text": [
      "Enter a list[1,3,5,6]\n",
      "[1, 3, 5, 6] 2298823677056\n",
      "[1, 3, 5, 6] 2298823679296\n"
     ]
    }
   ],
   "source": [
    "import copy\n",
    "\n",
    "def cloneList():\n",
    "    in_list = eval(input(\"Enter a list\"))\n",
    "    print(in_list,id(in_list))\n",
    "    cloned_list = in_list.copy()\n",
    "    print(cloned_list,id(cloned_list))\n",
    "cloneList()"
   ]
  },
  {
   "cell_type": "code",
   "execution_count": null,
   "id": "152cc7f1",
   "metadata": {},
   "outputs": [],
   "source": []
  },
  {
   "cell_type": "code",
   "execution_count": null,
   "id": "d1cd1343",
   "metadata": {},
   "outputs": [],
   "source": [
    "#Q11. Write a python program to count occurences of an element in a list?"
   ]
  },
  {
   "cell_type": "code",
   "execution_count": 21,
   "id": "92cdbb8f",
   "metadata": {},
   "outputs": [
    {
     "name": "stdout",
     "output_type": "stream",
     "text": [
      "Enter The elements of list: [2,4,5,6]\n",
      "Enter the element to find occurence: 4\n",
      "There are 1 occurences of 4 in [2, 4, 5, 6]\n"
     ]
    }
   ],
   "source": [
    "def checkOccurence():\n",
    "    in_list = eval(input(\"Enter The elements of list: \"))\n",
    "    in_num = eval(input(\"Enter the element to find occurence: \"))\n",
    "    count = 0\n",
    "    if in_num in in_list:\n",
    "        for i in in_list:\n",
    "            if i == in_num:\n",
    "                count=count+1\n",
    "    print(f\"There are {count} occurences of {in_num} in {in_list}\")\n",
    "checkOccurence()\n",
    "    \n"
   ]
  },
  {
   "cell_type": "code",
   "execution_count": null,
   "id": "58d40444",
   "metadata": {},
   "outputs": [],
   "source": []
  }
 ],
 "metadata": {
  "kernelspec": {
   "display_name": "Python 3 (ipykernel)",
   "language": "python",
   "name": "python3"
  },
  "language_info": {
   "codemirror_mode": {
    "name": "ipython",
    "version": 3
   },
   "file_extension": ".py",
   "mimetype": "text/x-python",
   "name": "python",
   "nbconvert_exporter": "python",
   "pygments_lexer": "ipython3",
   "version": "3.9.13"
  }
 },
 "nbformat": 4,
 "nbformat_minor": 5
}
