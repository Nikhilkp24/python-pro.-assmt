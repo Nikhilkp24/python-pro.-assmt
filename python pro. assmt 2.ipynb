{
 "cells": [
  {
   "cell_type": "code",
   "execution_count": null,
   "id": "644b93a1",
   "metadata": {},
   "outputs": [],
   "source": [
    "#Q1. Write a Python program to convert kilometers to miles?"
   ]
  },
  {
   "cell_type": "code",
   "execution_count": 2,
   "id": "770f5796",
   "metadata": {},
   "outputs": [
    {
     "name": "stdout",
     "output_type": "stream",
     "text": [
      "Enter the value in km: 5\n",
      "The entered value in miles is:  3.106855\n"
     ]
    }
   ],
   "source": [
    "km=float(input(\"Enter the value in km: \"))\n",
    "# 1 kilometre = 0.621371 miles\n",
    "ratio=0.621371\n",
    "mi=km*ratio\n",
    "print(\"The entered value in miles is: \",mi)"
   ]
  },
  {
   "cell_type": "code",
   "execution_count": 3,
   "id": "6ac68a51",
   "metadata": {},
   "outputs": [],
   "source": [
    "#Q2. Write a Python program to convert Celsius to Fahrenheit?"
   ]
  },
  {
   "cell_type": "code",
   "execution_count": 4,
   "id": "b8477221",
   "metadata": {},
   "outputs": [
    {
     "name": "stdout",
     "output_type": "stream",
     "text": [
      "Enter the temperature in celsius: 78\n",
      "temperature in fahrenheit is:  172.4\n"
     ]
    }
   ],
   "source": [
    "celsius=float(input(\"Enter the temperature in celsius: \"))\n",
    "farh=celsius*9/5+32\n",
    "print(\"temperature in fahrenheit is: \",farh)"
   ]
  },
  {
   "cell_type": "code",
   "execution_count": 5,
   "id": "964d6c36",
   "metadata": {},
   "outputs": [],
   "source": [
    "#Q3. Write a Python program to display calendar?"
   ]
  },
  {
   "cell_type": "code",
   "execution_count": 7,
   "id": "68920aae",
   "metadata": {},
   "outputs": [
    {
     "name": "stdout",
     "output_type": "stream",
     "text": [
      "Enter year: 2023\n",
      "                                  2023\n",
      "\n",
      "      January                   February                   March\n",
      "Mo Tu We Th Fr Sa Su      Mo Tu We Th Fr Sa Su      Mo Tu We Th Fr Sa Su\n",
      "                   1             1  2  3  4  5             1  2  3  4  5\n",
      " 2  3  4  5  6  7  8       6  7  8  9 10 11 12       6  7  8  9 10 11 12\n",
      " 9 10 11 12 13 14 15      13 14 15 16 17 18 19      13 14 15 16 17 18 19\n",
      "16 17 18 19 20 21 22      20 21 22 23 24 25 26      20 21 22 23 24 25 26\n",
      "23 24 25 26 27 28 29      27 28                     27 28 29 30 31\n",
      "30 31\n",
      "\n",
      "       April                      May                       June\n",
      "Mo Tu We Th Fr Sa Su      Mo Tu We Th Fr Sa Su      Mo Tu We Th Fr Sa Su\n",
      "                1  2       1  2  3  4  5  6  7                1  2  3  4\n",
      " 3  4  5  6  7  8  9       8  9 10 11 12 13 14       5  6  7  8  9 10 11\n",
      "10 11 12 13 14 15 16      15 16 17 18 19 20 21      12 13 14 15 16 17 18\n",
      "17 18 19 20 21 22 23      22 23 24 25 26 27 28      19 20 21 22 23 24 25\n",
      "24 25 26 27 28 29 30      29 30 31                  26 27 28 29 30\n",
      "\n",
      "        July                     August                  September\n",
      "Mo Tu We Th Fr Sa Su      Mo Tu We Th Fr Sa Su      Mo Tu We Th Fr Sa Su\n",
      "                1  2          1  2  3  4  5  6                   1  2  3\n",
      " 3  4  5  6  7  8  9       7  8  9 10 11 12 13       4  5  6  7  8  9 10\n",
      "10 11 12 13 14 15 16      14 15 16 17 18 19 20      11 12 13 14 15 16 17\n",
      "17 18 19 20 21 22 23      21 22 23 24 25 26 27      18 19 20 21 22 23 24\n",
      "24 25 26 27 28 29 30      28 29 30 31               25 26 27 28 29 30\n",
      "31\n",
      "\n",
      "      October                   November                  December\n",
      "Mo Tu We Th Fr Sa Su      Mo Tu We Th Fr Sa Su      Mo Tu We Th Fr Sa Su\n",
      "                   1             1  2  3  4  5                   1  2  3\n",
      " 2  3  4  5  6  7  8       6  7  8  9 10 11 12       4  5  6  7  8  9 10\n",
      " 9 10 11 12 13 14 15      13 14 15 16 17 18 19      11 12 13 14 15 16 17\n",
      "16 17 18 19 20 21 22      20 21 22 23 24 25 26      18 19 20 21 22 23 24\n",
      "23 24 25 26 27 28 29      27 28 29 30               25 26 27 28 29 30 31\n",
      "30 31\n",
      "\n"
     ]
    }
   ],
   "source": [
    "import calendar\n",
    "yy=int(input(\"Enter year: \"))\n",
    "\n",
    "print(calendar.calendar(yy))"
   ]
  },
  {
   "cell_type": "code",
   "execution_count": 8,
   "id": "2d2ccb1c",
   "metadata": {},
   "outputs": [],
   "source": [
    "#Q4. Write a Python program to solve quadratic equation?"
   ]
  },
  {
   "cell_type": "code",
   "execution_count": 9,
   "id": "ae70772c",
   "metadata": {},
   "outputs": [
    {
     "name": "stdout",
     "output_type": "stream",
     "text": [
      "Enter value of a: 4\n",
      "Enter value of b: 6\n",
      "Enter value of b: 7\n",
      "Two distinct complex roots are:  (0.3397247358851685, -1.8397247358851685)\n"
     ]
    }
   ],
   "source": [
    "import math\n",
    "a=int(input(\"Enter value of a: \"))\n",
    "b=int(input(\"Enter value of b: \"))\n",
    "c=int(input(\"Enter value of b: \"))\n",
    "\n",
    "d=(b**2)-(4*a*c)\n",
    "\n",
    "if d>0:\n",
    "    root1 = (-b+math.sqrtd/(2*a))\n",
    "    root2 = (-b-math.sqrtd/(2*a))\n",
    "    print(\"Two distinct real roots are: \",(root1,root2))\n",
    "elif d==0:\n",
    "    root1 = root2 = -b/(2*a)\n",
    "    print(\"Two equal nd real roots  are: \",(root1,root2))\n",
    "elif d<0:\n",
    "    root1=root2=-b/(2*a)\n",
    "    imaginary=math.sqrt(-d)/(2*a)\n",
    "    print(\"Two distinct complex roots are: \",(root1+imaginary,root2-imaginary))\n"
   ]
  },
  {
   "cell_type": "code",
   "execution_count": 10,
   "id": "fed188a1",
   "metadata": {},
   "outputs": [],
   "source": [
    "#Q5. Write a Python program to swap two variables without temp variable?"
   ]
  },
  {
   "cell_type": "code",
   "execution_count": 11,
   "id": "3f7c1cfb",
   "metadata": {},
   "outputs": [
    {
     "name": "stdout",
     "output_type": "stream",
     "text": [
      "value1: 8\n",
      "value2: 9\n",
      "Before swapping: \n",
      "value of x:  8 and y:  9\n",
      "After swapping: \n",
      "value of x:  9 and y:  8\n"
     ]
    }
   ],
   "source": [
    "x=int(input(\"value1: \"))\n",
    "y=int(input(\"value2: \"))\n",
    "print(\"Before swapping: \")\n",
    "print(\"value of x: \",x,\"and y: \",y)\n",
    "\n",
    "x,y=y,x\n",
    "\n",
    "print(\"After swapping: \")\n",
    "print(\"value of x: \",x,\"and y: \",y)"
   ]
  },
  {
   "cell_type": "code",
   "execution_count": null,
   "id": "653c7269",
   "metadata": {},
   "outputs": [],
   "source": []
  }
 ],
 "metadata": {
  "kernelspec": {
   "display_name": "Python 3 (ipykernel)",
   "language": "python",
   "name": "python3"
  },
  "language_info": {
   "codemirror_mode": {
    "name": "ipython",
    "version": 3
   },
   "file_extension": ".py",
   "mimetype": "text/x-python",
   "name": "python",
   "nbconvert_exporter": "python",
   "pygments_lexer": "ipython3",
   "version": "3.9.13"
  }
 },
 "nbformat": 4,
 "nbformat_minor": 5
}
