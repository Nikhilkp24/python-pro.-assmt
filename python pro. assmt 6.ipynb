{
 "cells": [
  {
   "cell_type": "code",
   "execution_count": null,
   "id": "a521d1d3",
   "metadata": {},
   "outputs": [],
   "source": [
    "#Q1. Write a Python Program to Display Fibonacci Sequence Using Recursion?"
   ]
  },
  {
   "cell_type": "code",
   "execution_count": 1,
   "id": "d3f00488",
   "metadata": {},
   "outputs": [
    {
     "name": "stdout",
     "output_type": "stream",
     "text": [
      "Enter number of terms: 5\n",
      "Fibonacci sequence:\n",
      "0\n",
      "1\n",
      "1\n",
      "2\n",
      "3\n"
     ]
    }
   ],
   "source": [
    "def recur_fibo(n):\n",
    "    if n<=1:\n",
    "        return n\n",
    "    else:\n",
    "        return(recur_fibo(n-1)+recur_fibo(n-2))\n",
    "n=int(input(\"Enter number of terms: \"))\n",
    "print(\"Fibonacci sequence:\")\n",
    "for i  in range(n):\n",
    "    print(recur_fibo(i))\n"
   ]
  },
  {
   "cell_type": "code",
   "execution_count": null,
   "id": "e2f4a9ab",
   "metadata": {},
   "outputs": [],
   "source": [
    "#Q2. Write a Python Program to Find Factorial of Number Using Recursion?"
   ]
  },
  {
   "cell_type": "code",
   "execution_count": 2,
   "id": "dbb497e9",
   "metadata": {},
   "outputs": [
    {
     "name": "stdout",
     "output_type": "stream",
     "text": [
      "Enter  the number6\n",
      "number is:  6\n",
      "Facctorial:  720\n"
     ]
    }
   ],
   "source": [
    "def factorial(n):\n",
    "    if n==1 or n==0:\n",
    "        return 1\n",
    "    else:\n",
    "        return (n*factorial(n-1))\n",
    "n=int(input(\"Enter  the number\"))\n",
    "print(\"number is: \",n)\n",
    "print(\"Facctorial: \",factorial(n))\n"
   ]
  },
  {
   "cell_type": "code",
   "execution_count": null,
   "id": "1a6598c9",
   "metadata": {},
   "outputs": [],
   "source": [
    "#Q3. Write a Python Program to calculate your Body Mass Index?"
   ]
  },
  {
   "cell_type": "code",
   "execution_count": 5,
   "id": "c52ebfd9",
   "metadata": {},
   "outputs": [
    {
     "name": "stdout",
     "output_type": "stream",
     "text": [
      "Enter the height: 6\n",
      "Enter the  weight: 70\n",
      "The BMI is  1.9444444444444444 so underweight\n"
     ]
    }
   ],
   "source": [
    "def BMI(height,weight):\n",
    "    bmi=weight/height**2\n",
    "    return  bmi\n",
    "height=float(input(\"Enter the height: \"))\n",
    "weight=float(input(\"Enter the  weight: \"))\n",
    "\n",
    "bmi=BMI(height,weight)\n",
    "print(\"The BMI is \", format(bmi),\"so\",end=\" \")\n",
    "if bmi<18.5:\n",
    "    print(\"underweight\")\n",
    "elif (bmi>=18.5 and bmi<24):\n",
    "    print(\"Healthy\")\n",
    "elif (bmi>=24.9 and bmi<30):\n",
    "    print(\"overweight\")\n",
    "elif (bmi>=30):\n",
    "    print(\"suffering from obesity\")\n",
    "else:\n",
    "    pass\n"
   ]
  },
  {
   "cell_type": "code",
   "execution_count": null,
   "id": "0010c2b6",
   "metadata": {},
   "outputs": [],
   "source": [
    "#Q4. Write a Python Program to calculate the natural logarithm of any number?"
   ]
  },
  {
   "cell_type": "code",
   "execution_count": 6,
   "id": "e16434d0",
   "metadata": {},
   "outputs": [
    {
     "name": "stdout",
     "output_type": "stream",
     "text": [
      "Enter the number: 6\n",
      "The value is:  1.791759469228055\n"
     ]
    }
   ],
   "source": [
    "import math\n",
    "number=int(input(\"Enter the number: \"))\n",
    "ans = math.log(number)\n",
    "print(\"The value is: \",ans)"
   ]
  },
  {
   "cell_type": "code",
   "execution_count": null,
   "id": "5e5cf9c9",
   "metadata": {},
   "outputs": [],
   "source": [
    "#Q5. Write a Python Program for cube sum of first n natural numbers?"
   ]
  },
  {
   "cell_type": "code",
   "execution_count": 7,
   "id": "c19543fe",
   "metadata": {},
   "outputs": [
    {
     "name": "stdout",
     "output_type": "stream",
     "text": [
      "enter  the  nummber5\n",
      "125\n"
     ]
    }
   ],
   "source": [
    "def sumofseries(n):\n",
    "    sum=0\n",
    "    for i in range(n,n+1):\n",
    "        sum+=i*i*i\n",
    "    return sum\n",
    "n=int(input(\"enter  the  nummber\"))\n",
    "print(sumofseries(n))\n"
   ]
  },
  {
   "cell_type": "code",
   "execution_count": null,
   "id": "894ccce0",
   "metadata": {},
   "outputs": [],
   "source": []
  }
 ],
 "metadata": {
  "kernelspec": {
   "display_name": "Python 3 (ipykernel)",
   "language": "python",
   "name": "python3"
  },
  "language_info": {
   "codemirror_mode": {
    "name": "ipython",
    "version": 3
   },
   "file_extension": ".py",
   "mimetype": "text/x-python",
   "name": "python",
   "nbconvert_exporter": "python",
   "pygments_lexer": "ipython3",
   "version": "3.9.13"
  }
 },
 "nbformat": 4,
 "nbformat_minor": 5
}
