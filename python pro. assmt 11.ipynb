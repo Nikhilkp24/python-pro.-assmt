{
 "cells": [
  {
   "cell_type": "code",
   "execution_count": null,
   "id": "58a588b6",
   "metadata": {},
   "outputs": [],
   "source": [
    "#Q1. Write a Python program to find words which are greater than given length k?"
   ]
  },
  {
   "cell_type": "code",
   "execution_count": 1,
   "id": "8aa13a95",
   "metadata": {},
   "outputs": [
    {
     "name": "stdout",
     "output_type": "stream",
     "text": [
      "Enter the string: Python program to find words which are greater than given length k\n",
      "Enter the length of the string: 6\n",
      "program,greater\n"
     ]
    }
   ],
   "source": [
    "def find_word():\n",
    "    int_str = input(\"Enter the string: \")\n",
    "    length = int(input(\"Enter the length of the string: \"))\n",
    "    out_str = []\n",
    "    for i in int_str.split(\" \"):\n",
    "        if len(i) > length:\n",
    "            out_str.append(i)\n",
    "    print(','.join(out_str))\n",
    "find_word()\n",
    "    "
   ]
  },
  {
   "cell_type": "code",
   "execution_count": null,
   "id": "26eff86f",
   "metadata": {},
   "outputs": [],
   "source": [
    "#Q2. Write a Python program for removing i-th character from a string?"
   ]
  },
  {
   "cell_type": "code",
   "execution_count": null,
   "id": "8240a318",
   "metadata": {},
   "outputs": [],
   "source": [
    "def remove_char():\n",
    "    in_str = input(\"Enter the string: \")\n",
    "    char_num = int(input(\"Enter the ith character: \"))\n",
    "    out_str = ''\n",
    "    for j in range(len(in_str)):\n",
    "        if j!=char_num:\n",
    "            out_str = out_str + in_str[j]\n",
    "    print(out_str)\n",
    "remove_char()"
   ]
  },
  {
   "cell_type": "code",
   "execution_count": null,
   "id": "d396f539",
   "metadata": {},
   "outputs": [],
   "source": [
    "#Q3. Write a Python program to split and join a string?"
   ]
  },
  {
   "cell_type": "code",
   "execution_count": 2,
   "id": "dca71049",
   "metadata": {},
   "outputs": [
    {
     "name": "stdout",
     "output_type": "stream",
     "text": [
      "enter the string: program\n",
      "Split String is:  ['program']\n",
      "Join String is:  program\n"
     ]
    }
   ],
   "source": [
    "def splitJoinStr():\n",
    "    str = input(\"enter the string: \")\n",
    "    print(\"Split String is: \",str.split(\" \"))\n",
    "    print(\"Join String is: \",\"\".join(str))\n",
    "splitJoinStr()"
   ]
  },
  {
   "cell_type": "code",
   "execution_count": null,
   "id": "0c2fc399",
   "metadata": {},
   "outputs": [],
   "source": [
    "#Q4. Write a Python to check if a given string is binary string or not?"
   ]
  },
  {
   "cell_type": "code",
   "execution_count": 5,
   "id": "be9f8269",
   "metadata": {},
   "outputs": [
    {
     "name": "stdout",
     "output_type": "stream",
     "text": [
      "Enter the string: 1100000011\n",
      "yes\n"
     ]
    }
   ],
   "source": [
    "def checkIsStrBin():\n",
    "    string = input(\"Enter the string: \")\n",
    "    if (string.count('0') + string.count('1') == len(string)):\n",
    "        print(\"yes\")\n",
    "    else:\n",
    "        print(\"no\")\n",
    "checkIsStrBin()\n"
   ]
  },
  {
   "cell_type": "code",
   "execution_count": null,
   "id": "fd2f27a7",
   "metadata": {},
   "outputs": [],
   "source": [
    "#Q5. Write a Python program to find uncommon words from two Strings?"
   ]
  },
  {
   "cell_type": "code",
   "execution_count": 6,
   "id": "1a96668f",
   "metadata": {},
   "outputs": [
    {
     "name": "stdout",
     "output_type": "stream",
     "text": [
      "Enter the string1: a Python program to find uncommon words from two Strings\n",
      "Enter the string2:  \n",
      "{'', 'uncommon', 'two', 'from', 'Strings', 'words', 'a', 'Python', 'program', 'to', 'find'}\n"
     ]
    }
   ],
   "source": [
    "def unCommonWords():\n",
    "    str1 = set(input(\"Enter the string1: \").split(' '))\n",
    "    str2 = set(input(\"Enter the string2: \").split(' '))\n",
    "    str = (str1.union(str2)).difference(str1.intersection(str2))\n",
    "    print(str)\n",
    "    \n",
    "unCommonWords()"
   ]
  },
  {
   "cell_type": "code",
   "execution_count": null,
   "id": "eea6a253",
   "metadata": {},
   "outputs": [],
   "source": [
    "#Q6. Write a Python to find all duplicate characters in string?"
   ]
  },
  {
   "cell_type": "code",
   "execution_count": 7,
   "id": "2afa0a88",
   "metadata": {},
   "outputs": [
    {
     "name": "stdout",
     "output_type": "stream",
     "text": [
      "Enter the string: characters\n",
      "Duplicate characters are: ['a', 'r', 'c']\n"
     ]
    }
   ],
   "source": [
    "def duplicateChar():\n",
    "    str = input(\"Enter the string: \")\n",
    "    non_duplicate = []\n",
    "    duplicate = []\n",
    "    for i in str:\n",
    "        if i not in non_duplicate:\n",
    "            non_duplicate.append(i)\n",
    "        else:\n",
    "            duplicate.append(i)\n",
    "    print(f'Duplicate characters are: {list(set(duplicate))}')\n",
    "duplicateChar()"
   ]
  },
  {
   "cell_type": "code",
   "execution_count": null,
   "id": "121a443a",
   "metadata": {},
   "outputs": [],
   "source": [
    "#Q7. Write a Python Program to check if a string contains any special character?"
   ]
  },
  {
   "cell_type": "code",
   "execution_count": 8,
   "id": "75d75f52",
   "metadata": {},
   "outputs": [
    {
     "name": "stdout",
     "output_type": "stream",
     "text": [
      "Enter the string: string @ contains any s &*pecial characters\n",
      "There are 3 special characters in string @ contains any s &*pecial characters which are ['@', '&', '*']\n"
     ]
    }
   ],
   "source": [
    "def checkSpecChar():\n",
    "    special_char = '[@_!#$%^&*()<>?|/\\{}~`:]'\n",
    "    str = input(\"Enter the string: \")\n",
    "    char_list = []\n",
    "    count = 0\n",
    "    for i in str:\n",
    "        if i in special_char:\n",
    "            char_list.append(i)\n",
    "            count=count+1\n",
    "    print(f\"There are {count} special characters in {str} which are {char_list}\")\n",
    "checkSpecChar()\n",
    "    \n",
    "            "
   ]
  },
  {
   "cell_type": "code",
   "execution_count": null,
   "id": "ab6837bd",
   "metadata": {},
   "outputs": [],
   "source": []
  }
 ],
 "metadata": {
  "kernelspec": {
   "display_name": "Python 3 (ipykernel)",
   "language": "python",
   "name": "python3"
  },
  "language_info": {
   "codemirror_mode": {
    "name": "ipython",
    "version": 3
   },
   "file_extension": ".py",
   "mimetype": "text/x-python",
   "name": "python",
   "nbconvert_exporter": "python",
   "pygments_lexer": "ipython3",
   "version": "3.9.13"
  }
 },
 "nbformat": 4,
 "nbformat_minor": 5
}
