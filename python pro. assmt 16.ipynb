{
 "cells": [
  {
   "cell_type": "code",
   "execution_count": null,
   "id": "1a42c1f4",
   "metadata": {},
   "outputs": [],
   "source": [
    "#Question1. Write a function that stutters a word as if someone is struggling to read it. The\n",
    "first two letters are repeated twice with an ellipsis ... and space after each, and then the\n",
    "word is pronounced with a question mark ?.\n"
   ]
  },
  {
   "cell_type": "code",
   "execution_count": 2,
   "id": "93176837",
   "metadata": {},
   "outputs": [
    {
     "name": "stdout",
     "output_type": "stream",
     "text": [
      "Enter  the word: stutters\n",
      "st....st....stutters?\n"
     ]
    }
   ],
   "source": [
    "class word :\n",
    "    def slutter_word(self,in_string):\n",
    "        self.in_string = in_string\n",
    "    try :\n",
    "        in_string = input(\"Enter  the word: \")\n",
    "        out_string = in_string.replace(in_string[0:2],((in_string[0:2]+'....')*2) + in_string[0:2]) + '?'\n",
    "        print(out_string)\n",
    "    except Exception as e:\n",
    "        pass\n",
    "obj = word()\n",
    "obj.slutter_word('incredible' for i in range(3))"
   ]
  },
  {
   "cell_type": "code",
   "execution_count": null,
   "id": "af2f493a",
   "metadata": {},
   "outputs": [],
   "source": [
    "#Question 2.Create a function that takes an angle in radians and returns the corresponding\n",
    "angle in degrees rounded to one decimal place."
   ]
  },
  {
   "cell_type": "code",
   "execution_count": 3,
   "id": "1a7d1852",
   "metadata": {},
   "outputs": [
    {
     "name": "stdout",
     "output_type": "stream",
     "text": [
      "Enter the number in radian: 1\n",
      "57.29577951308232\n",
      "Enter the number in radian: 2\n",
      "114.59155902616465\n",
      "Enter the number in radian: 3\n",
      "171.88733853924697\n",
      "Enter the number in radian: 5\n",
      "286.4788975654116\n",
      "Enter the number in radian: 6\n",
      "343.77467707849394\n"
     ]
    }
   ],
   "source": [
    "import math\n",
    "def radTodeg():\n",
    "    in_num = int(input(\"Enter the number in radian: \"))\n",
    "    out_num = (180/math.pi)*in_num\n",
    "    print(out_num)\n",
    "for x in range(5):\n",
    "    radTodeg()"
   ]
  },
  {
   "cell_type": "code",
   "execution_count": null,
   "id": "eea76ca6",
   "metadata": {},
   "outputs": [],
   "source": [
    "#Question 3. In this challenge, establish if a given integer num is a Curzon number. If 1 plus\n",
    "2 elevated to num is exactly divisible by 1 plus 2 multiplied by num, then num is a Curzon\n",
    "number.\n",
    "Given a non-negative integer num, implement a function that returns True if num is a Curzon\n",
    "number, or False otherwise."
   ]
  },
  {
   "cell_type": "code",
   "execution_count": 4,
   "id": "115ad385",
   "metadata": {},
   "outputs": [
    {
     "name": "stdout",
     "output_type": "stream",
     "text": [
      "Enter the number: 4\n",
      "False\n",
      "Enter the number: 5\n",
      "True\n",
      "Enter the number: 10\n",
      "False\n",
      "Enter the number: 7\n",
      "False\n",
      "Enter the number: 9\n",
      "True\n"
     ]
    }
   ],
   "source": [
    "def isCurzon():\n",
    "    in_num = int(input(\"Enter the number: \"))\n",
    "    if ((2**in_num)+1)%((2*in_num)+1) == 0:\n",
    "        print(True)\n",
    "    else:\n",
    "        print(False)\n",
    "for i in range(5):\n",
    "    isCurzon()"
   ]
  },
  {
   "cell_type": "code",
   "execution_count": null,
   "id": "8b60c0b4",
   "metadata": {},
   "outputs": [],
   "source": [
    "#Question 4.Given the side length x find the area of a hexagon."
   ]
  },
  {
   "cell_type": "code",
   "execution_count": 5,
   "id": "b32564a4",
   "metadata": {},
   "outputs": [
    {
     "name": "stdout",
     "output_type": "stream",
     "text": [
      "Enter the side length x: 1\n",
      "2.598076211353316\n",
      "Enter the side length x: 2\n",
      "10.392304845413264\n",
      "Enter the side length x: 3\n",
      "23.382685902179844\n"
     ]
    }
   ],
   "source": [
    "import  math\n",
    "def areaHex():\n",
    "    in_num = int(input(\"Enter the side length x: \"))\n",
    "    out_num = ((3*math.sqrt(3)/2)*(in_num**2))\n",
    "    print(out_num)\n",
    "for i in range(3):\n",
    "    areaHex()"
   ]
  },
  {
   "cell_type": "code",
   "execution_count": null,
   "id": "112888de",
   "metadata": {},
   "outputs": [],
   "source": [
    "#Question 5. Create a function that returns a base-2 (binary) representation of a base-10\n",
    "(decimal) string number. To convert is simple: ((2) means base-2 and (10) means base-10)\n",
    "010101001(2) = 1 + 8 + 32 + 128.\n",
    "Going from right to left, the value of the most right bit is 1, now from that every bit to the left\n",
    "will be x2 the value, value of an 8 bit binary numbers are (256, 128, 64, 32, 16, 8, 4, 2, 1)."
   ]
  },
  {
   "cell_type": "code",
   "execution_count": 6,
   "id": "54f13d15",
   "metadata": {},
   "outputs": [
    {
     "name": "stdout",
     "output_type": "stream",
     "text": [
      "enter the number: 1\n",
      "Binary number is:   1\n",
      "enter the number: 5\n",
      "Binary number is:   101\n",
      "enter the number: 10\n",
      "Binary number is:   1010\n"
     ]
    }
   ],
   "source": [
    "def binary():\n",
    "    in_num = int(input(\"enter the number: \"))\n",
    "    out_num = bin(in_num).replace('0b',' ')\n",
    "    print('Binary number is: ',out_num)\n",
    "for x in range(3):\n",
    "    binary()\n"
   ]
  },
  {
   "cell_type": "code",
   "execution_count": null,
   "id": "d281bd36",
   "metadata": {},
   "outputs": [],
   "source": []
  }
 ],
 "metadata": {
  "kernelspec": {
   "display_name": "Python 3 (ipykernel)",
   "language": "python",
   "name": "python3"
  },
  "language_info": {
   "codemirror_mode": {
    "name": "ipython",
    "version": 3
   },
   "file_extension": ".py",
   "mimetype": "text/x-python",
   "name": "python",
   "nbconvert_exporter": "python",
   "pygments_lexer": "ipython3",
   "version": "3.9.13"
  }
 },
 "nbformat": 4,
 "nbformat_minor": 5
}
