{
 "cells": [
  {
   "cell_type": "code",
   "execution_count": null,
   "id": "3add8697",
   "metadata": {},
   "outputs": [],
   "source": [
    "#Q1. Write a Python program to Extract Unique values dictionary values?"
   ]
  },
  {
   "cell_type": "code",
   "execution_count": 1,
   "id": "91335970",
   "metadata": {},
   "outputs": [
    {
     "name": "stdout",
     "output_type": "stream",
     "text": [
      "dict_values(['ineuron.ai', 'datascience', 'sudhanshu sir', 'krish sir', 'datascience', 'krish sir'])\n",
      "['datascience', 'sudhanshu sir', 'krish sir', 'ineuron.ai']\n"
     ]
    }
   ],
   "source": [
    "in_dict = {'key1':'ineuron.ai','key2':'datascience','key3':'sudhanshu sir','key4':'krish sir','key5':'datascience','key6':\n",
    "          'krish sir'}\n",
    "try :\n",
    "    print(in_dict.values())\n",
    "    print(list(set(in_dict.values())))\n",
    "except Exception as e:\n",
    "    pass"
   ]
  },
  {
   "cell_type": "code",
   "execution_count": 2,
   "id": "0fa1863a",
   "metadata": {},
   "outputs": [],
   "source": [
    "#Q2. Write a Python program to find the sum of all items in a dictionary?"
   ]
  },
  {
   "cell_type": "code",
   "execution_count": 3,
   "id": "3dadea66",
   "metadata": {},
   "outputs": [
    {
     "name": "stdout",
     "output_type": "stream",
     "text": [
      "Sum of all items:  1000\n"
     ]
    }
   ],
   "source": [
    "in_dict = {'A':100,'B':200,'C':300,'D':400}\n",
    "try :\n",
    "    print('Sum of all items: ',sum(in_dict.values()))\n",
    "except Exception as e:\n",
    "    pass"
   ]
  },
  {
   "cell_type": "code",
   "execution_count": 4,
   "id": "66eb3e49",
   "metadata": {},
   "outputs": [],
   "source": [
    "#Q3. Write a Python program to Merging two Dictionaries?"
   ]
  },
  {
   "cell_type": "code",
   "execution_count": 5,
   "id": "0b8384ba",
   "metadata": {},
   "outputs": [
    {
     "name": "stdout",
     "output_type": "stream",
     "text": [
      "{'name': 'sonali', 'surname': 'thakur', 'email_id': 'sonalithakur196@gmail.com', 'age': '20', 'key1': 'ineuron.ai', 'key2': 'datascience', 'key3': 'sudhanshu  sir', 'key4': 'krish sir', 'key5': 'ineuron support team'}\n"
     ]
    }
   ],
   "source": [
    "in_dict1 = {'name':'sonali','surname':'thakur','email_id':'sonalithakur196@gmail.com','age':'20'}\n",
    "in_dict2 = {'key1':'ineuron.ai','key2':'datascience','key3':'job guarantee','key3':'sudhanshu  sir','key4':'krish sir','key5':\n",
    "           'ineuron support team'}\n",
    "try :\n",
    "    in_dict1.update(in_dict2)\n",
    "    print(in_dict1)\n",
    "except  Exception as e:\n",
    "    pass"
   ]
  },
  {
   "cell_type": "code",
   "execution_count": 6,
   "id": "3c3a7438",
   "metadata": {},
   "outputs": [],
   "source": [
    "#Q4. Write a Python program to convert key-values list to flat dictionary?"
   ]
  },
  {
   "cell_type": "code",
   "execution_count": 7,
   "id": "b0b0f44a",
   "metadata": {},
   "outputs": [
    {
     "name": "stdout",
     "output_type": "stream",
     "text": [
      "{'key1': 'val1', 'key2': 'val2', 'key3': 'val3', 'key4': 'val4', 'key5': 'val5'}\n"
     ]
    }
   ],
   "source": [
    "list = [('key1','val1'),('key2','val2'),('key3','val3'),('key4','val4'),('key5','val5')]\n",
    "\n",
    "try :\n",
    "    print(dict(list))\n",
    "except Exception as e:\n",
    "    pass"
   ]
  },
  {
   "cell_type": "code",
   "execution_count": 8,
   "id": "c32eebe8",
   "metadata": {},
   "outputs": [],
   "source": [
    "#Q5. Write a Python program to insertion at the beginning in OrderedDict?"
   ]
  },
  {
   "cell_type": "code",
   "execution_count": 9,
   "id": "48eb5b0b",
   "metadata": {},
   "outputs": [],
   "source": [
    "from collections import OrderedDict\n",
    "\n",
    "dic1 = OrderedDict([('A','100'),('B','200'),('C','300'),('D','400')])\n",
    "insrt = OrderedDict([('E','500')])\n",
    "\n",
    "try:\n",
    "\n",
    "    final = OrderedDict(list(insrt.items()) + list(dic1.items()))\n",
    "    print(\"Resultant Dictionary : \")\n",
    "    print(final)\n",
    "except Exception as e:\n",
    "    pass"
   ]
  },
  {
   "cell_type": "code",
   "execution_count": 10,
   "id": "5778ca4c",
   "metadata": {},
   "outputs": [],
   "source": [
    "#Q6. Write a Python program to check order of character in string using OrderedDict()?"
   ]
  },
  {
   "cell_type": "code",
   "execution_count": 11,
   "id": "5d98f234",
   "metadata": {},
   "outputs": [
    {
     "name": "stdout",
     "output_type": "stream",
     "text": [
      "{'a': 100, 'b': 200, 'c': 300, 'd': 400}\n",
      "OrderedDict([('a', 100), ('b', 200), ('c', 300), ('d', 400)])\n"
     ]
    }
   ],
   "source": [
    "from collections import OrderedDict\n",
    "\n",
    "initial_list = {'a':100,'b':200,'c':300,'d':400}\n",
    "print(initial_list)\n",
    "\n",
    "final_list = OrderedDict(initial_list)\n",
    "print(final_list)"
   ]
  },
  {
   "cell_type": "code",
   "execution_count": 12,
   "id": "838790eb",
   "metadata": {},
   "outputs": [],
   "source": [
    "#Q7. Write a Python program to sort Python Dictionaries by Key or Value?"
   ]
  },
  {
   "cell_type": "code",
   "execution_count": 13,
   "id": "a49b94cd",
   "metadata": {},
   "outputs": [
    {
     "name": "stdout",
     "output_type": "stream",
     "text": [
      "Sorted Dictionary are :\n",
      "OrderedDict([('key1', 'Data Analyst'), ('key2', 'Data Engineer'), ('key3', 'Data Scientist'), ('key4', 'Architect Engineer')])\n"
     ]
    }
   ],
   "source": [
    "from collections import OrderedDict\n",
    "\n",
    "dict = {'key3':'Data Scientist','key2':'Data Engineer','key1':'Data Analyst','key4':'Architect Engineer'}\n",
    "dict1 = OrderedDict(sorted(dict.items()))\n",
    "print(\"Sorted Dictionary are :\")\n",
    "print(dict1)"
   ]
  },
  {
   "cell_type": "code",
   "execution_count": null,
   "id": "a0be6032",
   "metadata": {},
   "outputs": [],
   "source": []
  }
 ],
 "metadata": {
  "kernelspec": {
   "display_name": "Python 3 (ipykernel)",
   "language": "python",
   "name": "python3"
  },
  "language_info": {
   "codemirror_mode": {
    "name": "ipython",
    "version": 3
   },
   "file_extension": ".py",
   "mimetype": "text/x-python",
   "name": "python",
   "nbconvert_exporter": "python",
   "pygments_lexer": "ipython3",
   "version": "3.9.13"
  }
 },
 "nbformat": 4,
 "nbformat_minor": 5
}
